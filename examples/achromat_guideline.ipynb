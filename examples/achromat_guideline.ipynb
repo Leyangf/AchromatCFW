{
 "cells": [
  {
   "cell_type": "code",
   "execution_count": 1,
   "id": "5eb6a018",
   "metadata": {},
   "outputs": [],
   "source": [
    "import numpy as np\n",
    "import matplotlib.pyplot as plt\n",
    "from pathlib import Path\n",
    "import sys\n",
    "\n",
    "# Ensure 'achromatcfw' module is on the path\n",
    "sys.path.append(str(Path('..').resolve() / 'src'))\n",
    "from chromf.cfw import fringe_width\n",
    "from glass_map import glass_conrady, glass_sellmeier, glass_acf"
   ]
  },
  {
   "cell_type": "code",
   "execution_count": 2,
   "id": "84eb2d03",
   "metadata": {},
   "outputs": [],
   "source": [
    "# ----- Defocus sampling parameters -----\n",
    "defocus_range = 1000  # ± range in µm\n",
    "defocus_step  = 10    # step in µm\n",
    "z_vals = np.arange(-defocus_range, defocus_range + defocus_step, defocus_step)"
   ]
  },
  {
   "cell_type": "code",
   "execution_count": 3,
   "id": "5a44f215",
   "metadata": {},
   "outputs": [],
   "source": [
    "# ----- Core computation: direct model only -----\n",
    "def compute_direct_cfw_max(g1: str, g2: str, f0: float,\n",
    "                            lam1: float, lam2: float, lam0: float) -> float:\n",
    "    \"\"\"\n",
    "    Compute the maximum circle-with-focus (CFW) width through defocus for a given\n",
    "    achromat design (g1 + g2), focal length f0, and wavelengths lam1, lam2, lam0.\n",
    "\n",
    "    Removes Conrady analytic model; only uses the direct Δz model.\n",
    "    Constraints (λ2 > λ1, λ2 - λ1 > 100) must be enforced by the caller.\n",
    "    \"\"\"\n",
    "    # design power\n",
    "    Phi0_req = 1.0 / f0\n",
    "\n",
    "    # Conrady coefficients for each glass\n",
    "    a1, b1, c1 = (glass_conrady[g1][k] for k in (\"a\", \"b\", \"c\"))\n",
    "    a2, b2, c2 = (glass_conrady[g2][k] for k in (\"a\", \"b\", \"c\"))\n",
    "\n",
    "    # Achromat condition: ratio r\n",
    "    delta_nu   = 1/lam1 - 1/lam2\n",
    "    delta_nu35 = 1/lam1**3.5 - 1/lam2**3.5\n",
    "    r = -(b1*delta_nu + c1*delta_nu35) / (b2*delta_nu + c2*delta_nu35)\n",
    "\n",
    "    # Solve for K1, K2\n",
    "    denom = (a1 + r*a2) + (b1 + r*b2)/lam0 + (c1 + r*c2)/lam0**3.5\n",
    "    K1 = Phi0_req / denom\n",
    "    K2 = r * K1\n",
    "\n",
    "    # Total power coefficients\n",
    "    a_tot = a1*K1 + a2*K2\n",
    "    b_tot = b1*K1 + b2*K2\n",
    "    c_tot = c1*K1 + c2*K2\n",
    "\n",
    "    # Sample wavelengths for CHL data (Δz vs λ)\n",
    "    lam_sample = np.arange(400, 701, 10)\n",
    "    def Phi_tot(lam):\n",
    "        return a_tot + b_tot/lam + c_tot/lam**3.5\n",
    "    mm_to_um = 1e3\n",
    "    dz_sample = mm_to_um * (1.0/Phi_tot(lam_sample) - 1.0/Phi_tot(lam0))\n",
    "\n",
    "    # Compute through-focus widths\n",
    "    widths = np.array([fringe_width(z, CHLdata=dz_sample) for z in z_vals])\n",
    "    return widths.max()"
   ]
  },
  {
   "cell_type": "code",
   "execution_count": 4,
   "id": "392d1f08",
   "metadata": {},
   "outputs": [
    {
     "ename": "TypeError",
     "evalue": "fringe_width() got an unexpected keyword argument 'CHLdata'",
     "output_type": "error",
     "traceback": [
      "\u001b[31m---------------------------------------------------------------------------\u001b[39m",
      "\u001b[31mTypeError\u001b[39m                                 Traceback (most recent call last)",
      "\u001b[36mCell\u001b[39m\u001b[36m \u001b[39m\u001b[32mIn[4]\u001b[39m\u001b[32m, line 17\u001b[39m\n\u001b[32m     15\u001b[39m     \u001b[38;5;28;01mfor\u001b[39;00m j, lam2 \u001b[38;5;129;01min\u001b[39;00m \u001b[38;5;28menumerate\u001b[39m(lam2_vals):\n\u001b[32m     16\u001b[39m         \u001b[38;5;28;01mif\u001b[39;00m lam2 > lam1 \u001b[38;5;129;01mand\u001b[39;00m (lam2 - lam1) >= \u001b[32m100\u001b[39m:\n\u001b[32m---> \u001b[39m\u001b[32m17\u001b[39m             heatmap[j, i] = \u001b[43mcompute_direct_cfw_max\u001b[49m\u001b[43m(\u001b[49m\u001b[43mg1\u001b[49m\u001b[43m,\u001b[49m\u001b[43m \u001b[49m\u001b[43mg2\u001b[49m\u001b[43m,\u001b[49m\u001b[43m \u001b[49m\u001b[43mf0\u001b[49m\u001b[43m,\u001b[49m\u001b[43m \u001b[49m\u001b[43mlam1\u001b[49m\u001b[43m,\u001b[49m\u001b[43m \u001b[49m\u001b[43mlam2\u001b[49m\u001b[43m,\u001b[49m\u001b[43m \u001b[49m\u001b[43mlam0\u001b[49m\u001b[43m)\u001b[49m\n\u001b[32m     19\u001b[39m masked = np.ma.masked_invalid(heatmap)\n\u001b[32m     21\u001b[39m L1, L2 = np.meshgrid(lam1_vals, lam2_vals)\n",
      "\u001b[36mCell\u001b[39m\u001b[36m \u001b[39m\u001b[32mIn[3]\u001b[39m\u001b[32m, line 41\u001b[39m, in \u001b[36mcompute_direct_cfw_max\u001b[39m\u001b[34m(g1, g2, f0, lam1, lam2, lam0)\u001b[39m\n\u001b[32m     38\u001b[39m dz_sample = mm_to_um * (\u001b[32m1.0\u001b[39m/Phi_tot(lam_sample) - \u001b[32m1.0\u001b[39m/Phi_tot(lam0))\n\u001b[32m     40\u001b[39m \u001b[38;5;66;03m# Compute through-focus widths\u001b[39;00m\n\u001b[32m---> \u001b[39m\u001b[32m41\u001b[39m widths = np.array([\u001b[43mfringe_width\u001b[49m\u001b[43m(\u001b[49m\u001b[43mz\u001b[49m\u001b[43m,\u001b[49m\u001b[43m \u001b[49m\u001b[43mCHLdata\u001b[49m\u001b[43m=\u001b[49m\u001b[43mdz_sample\u001b[49m\u001b[43m)\u001b[49m \u001b[38;5;28;01mfor\u001b[39;00m z \u001b[38;5;129;01min\u001b[39;00m z_vals])\n\u001b[32m     42\u001b[39m \u001b[38;5;28;01mreturn\u001b[39;00m widths.max()\n",
      "\u001b[31mTypeError\u001b[39m: fringe_width() got an unexpected keyword argument 'CHLdata'"
     ]
    }
   ],
   "source": [
    "# Parameters\n",
    "g1, g2 = 'N-BK7', 'SF10'\n",
    "f0 = 100.0  # mm\n",
    "lam0 = 550.0  # nm, design wavelength\n",
    "\n",
    "lam1_vals = np.arange(400, 601, 10)\n",
    "lam2_vals = np.arange(500, 701, 10)\n",
    "\n",
    "n1 = len(lam1_vals)\n",
    "n2 = len(lam2_vals)\n",
    "\n",
    "heatmap = np.full((n2, n1), np.nan)\n",
    "\n",
    "for i, lam1 in enumerate(lam1_vals):\n",
    "    for j, lam2 in enumerate(lam2_vals):\n",
    "        if lam2 > lam1 and (lam2 - lam1) >= 100:\n",
    "            heatmap[j, i] = compute_direct_cfw_max(g1, g2, f0, lam1, lam2, lam0)\n",
    "\n",
    "masked = np.ma.masked_invalid(heatmap)\n",
    "\n",
    "L1, L2 = np.meshgrid(lam1_vals, lam2_vals)\n",
    "\n",
    "\n",
    "fig, ax = plt.subplots(figsize=(8, 6))\n",
    "c = ax.pcolormesh(L1, L2, masked, shading='auto')\n",
    "fig.colorbar(c, label='Max CFW (µm)')\n",
    "ax.set_xlim(lam1_vals.min(), lam1_vals.max())\n",
    "ax.set_ylim(lam2_vals.min(), lam2_vals.max())\n",
    "ax.set_xlabel('λ₁ (nm)')\n",
    "ax.set_ylabel('λ₂ (nm)')\n",
    "ax.set_title(f'Heatmap of Max CFW for {g1} + {g2}, f₀ = {f0} mm')\n",
    "\n",
    "plt.tight_layout()\n",
    "plt.show()"
   ]
  }
 ],
 "metadata": {
  "kernelspec": {
   "display_name": "thesis",
   "language": "python",
   "name": "python3"
  },
  "language_info": {
   "codemirror_mode": {
    "name": "ipython",
    "version": 3
   },
   "file_extension": ".py",
   "mimetype": "text/x-python",
   "name": "python",
   "nbconvert_exporter": "python",
   "pygments_lexer": "ipython3",
   "version": "3.13.2"
  }
 },
 "nbformat": 4,
 "nbformat_minor": 5
}
