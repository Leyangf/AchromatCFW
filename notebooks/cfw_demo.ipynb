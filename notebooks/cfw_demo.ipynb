{
 "cells": [
  {
   "cell_type": "markdown",
   "metadata": {},
   "source": [
    "# AchromatCFW demo\n",
    "\n",
    "This notebook demonstrates basic usage of the core functions in `achromatcfw.core.cfw`."
   ]
  },
  {
   "cell_type": "code",
   "execution_count": null,
   "metadata": {},
   "outputs": [],
   "source": [
    "import sys\n",
    "from pathlib import Path\n",
    "\n",
    "import numpy as np\n",
    "import pandas as pd\n",
    "import matplotlib.pyplot as plt\n",
    "\n",
    "# Add ../src to the Python search path\n",
    "sys.path.append(str(Path('..').resolve() / 'src'))\n",
    "\n",
    "from achromatcfw.core.cfw import Edge, Farbsaum, Farbsaumbreite, ColorFringe"
   ]
  },
  {
   "cell_type": "code",
   "execution_count": null,
   "metadata": {},
   "outputs": [],
   "source": [
    "# Load chromatic focal shift data\n",
    "chl_path = Path('..') / 'data' / 'raw' / 'defocus_chl_zf85.csv'\n",
    "chl_df = pd.read_csv(chl_path)\n",
    "CHLdata = chl_df['defocus_um'].to_numpy(dtype=float)\n",
    "CHLdata[:5]"
   ]
  },
  {
   "cell_type": "code",
   "execution_count": null,
   "metadata": {},
   "outputs": [],
   "source": [
    "# Plot edge responses for each channel at z=0\n",
    "xs = np.linspace(-50, 50, 200)\n",
    "edge_R = [Edge('R', x, 0.0, CHLdata=CHLdata) for x in xs]\n",
    "edge_G = [Edge('G', x, 0.0, CHLdata=CHLdata) for x in xs]\n",
    "edge_B = [Edge('B', x, 0.0, CHLdata=CHLdata) for x in xs]\n",
    "\n",
    "plt.figure(figsize=(6, 4))\n",
    "plt.plot(xs, edge_R, label='R', color='r')\n",
    "plt.plot(xs, edge_G, label='G', color='g')\n",
    "plt.plot(xs, edge_B, label='B', color='b')\n",
    "plt.xlabel('Pixel offset')\n",
    "plt.ylabel('Edge response')\n",
    "plt.legend()\n",
    "plt.grid(True)\n",
    "plt.show()"
   ]
  },
  {
   "cell_type": "code",
   "execution_count": null,
   "metadata": {},
   "outputs": [],
   "source": [
    "# Compute fringe width as a function of defocus\n",
    "z_vals = np.linspace(-50, 50, 25)\n",
    "widths = [Farbsaumbreite(z, CHLdata=CHLdata) for z in z_vals]\n",
    "\n",
    "plt.figure(figsize=(6, 4))\n",
    "plt.plot(z_vals, widths, marker='o')\n",
    "plt.xlabel('Defocus (z)')\n",
    "plt.ylabel('Fringe width (pixels)')\n",
    "plt.title('Fringe width vs. defocus')\n",
    "plt.grid(True)\n",
    "plt.show()"
   ]
  },
  {
   "cell_type": "code",
   "execution_count": null,
   "metadata": {},
   "outputs": [],
   "source": [
    "# Inspect RGB responses for the central pixel\n",
    "ColorFringe(0.0, 0.0, CHLdata=CHLdata)"
   ]
  }
 ],
 "metadata": {},
 "nbformat": 4,
 "nbformat_minor": 5
}
